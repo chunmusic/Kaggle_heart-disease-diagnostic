{
 "cells": [
  {
   "cell_type": "code",
   "execution_count": 1,
   "id": "f95ead48",
   "metadata": {},
   "outputs": [],
   "source": [
    "import numpy as np\n",
    "import pandas as pd\n",
    "import tensorflow as tf\n",
    "from tensorflow.keras.layers import Dense,Dropout\n",
    "from tensorflow.keras import Sequential\n",
    "from tensorflow.keras.regularizers import l2\n",
    "import matplotlib.pyplot as plt\n",
    "from sklearn.model_selection import train_test_split\n",
    "from sklearn.preprocessing import StandardScaler"
   ]
  },
  {
   "cell_type": "code",
   "execution_count": 2,
   "id": "2232b107",
   "metadata": {},
   "outputs": [],
   "source": [
    "df = pd.read_csv(\"heart.csv\")"
   ]
  },
  {
   "cell_type": "code",
   "execution_count": 3,
   "id": "d3cb3549",
   "metadata": {},
   "outputs": [
    {
     "data": {
      "text/html": [
       "<div>\n",
       "<style scoped>\n",
       "    .dataframe tbody tr th:only-of-type {\n",
       "        vertical-align: middle;\n",
       "    }\n",
       "\n",
       "    .dataframe tbody tr th {\n",
       "        vertical-align: top;\n",
       "    }\n",
       "\n",
       "    .dataframe thead th {\n",
       "        text-align: right;\n",
       "    }\n",
       "</style>\n",
       "<table border=\"1\" class=\"dataframe\">\n",
       "  <thead>\n",
       "    <tr style=\"text-align: right;\">\n",
       "      <th></th>\n",
       "      <th>age</th>\n",
       "      <th>sex</th>\n",
       "      <th>cp</th>\n",
       "      <th>trestbps</th>\n",
       "      <th>chol</th>\n",
       "      <th>fbs</th>\n",
       "      <th>restecg</th>\n",
       "      <th>thalach</th>\n",
       "      <th>exang</th>\n",
       "      <th>oldpeak</th>\n",
       "      <th>slope</th>\n",
       "      <th>ca</th>\n",
       "      <th>thal</th>\n",
       "      <th>target</th>\n",
       "    </tr>\n",
       "  </thead>\n",
       "  <tbody>\n",
       "    <tr>\n",
       "      <th>0</th>\n",
       "      <td>63</td>\n",
       "      <td>1</td>\n",
       "      <td>3</td>\n",
       "      <td>145</td>\n",
       "      <td>233</td>\n",
       "      <td>1</td>\n",
       "      <td>0</td>\n",
       "      <td>150</td>\n",
       "      <td>0</td>\n",
       "      <td>2.3</td>\n",
       "      <td>0</td>\n",
       "      <td>0</td>\n",
       "      <td>1</td>\n",
       "      <td>1</td>\n",
       "    </tr>\n",
       "    <tr>\n",
       "      <th>1</th>\n",
       "      <td>37</td>\n",
       "      <td>1</td>\n",
       "      <td>2</td>\n",
       "      <td>130</td>\n",
       "      <td>250</td>\n",
       "      <td>0</td>\n",
       "      <td>1</td>\n",
       "      <td>187</td>\n",
       "      <td>0</td>\n",
       "      <td>3.5</td>\n",
       "      <td>0</td>\n",
       "      <td>0</td>\n",
       "      <td>2</td>\n",
       "      <td>1</td>\n",
       "    </tr>\n",
       "    <tr>\n",
       "      <th>2</th>\n",
       "      <td>41</td>\n",
       "      <td>0</td>\n",
       "      <td>1</td>\n",
       "      <td>130</td>\n",
       "      <td>204</td>\n",
       "      <td>0</td>\n",
       "      <td>0</td>\n",
       "      <td>172</td>\n",
       "      <td>0</td>\n",
       "      <td>1.4</td>\n",
       "      <td>2</td>\n",
       "      <td>0</td>\n",
       "      <td>2</td>\n",
       "      <td>1</td>\n",
       "    </tr>\n",
       "    <tr>\n",
       "      <th>3</th>\n",
       "      <td>56</td>\n",
       "      <td>1</td>\n",
       "      <td>1</td>\n",
       "      <td>120</td>\n",
       "      <td>236</td>\n",
       "      <td>0</td>\n",
       "      <td>1</td>\n",
       "      <td>178</td>\n",
       "      <td>0</td>\n",
       "      <td>0.8</td>\n",
       "      <td>2</td>\n",
       "      <td>0</td>\n",
       "      <td>2</td>\n",
       "      <td>1</td>\n",
       "    </tr>\n",
       "    <tr>\n",
       "      <th>4</th>\n",
       "      <td>57</td>\n",
       "      <td>0</td>\n",
       "      <td>0</td>\n",
       "      <td>120</td>\n",
       "      <td>354</td>\n",
       "      <td>0</td>\n",
       "      <td>1</td>\n",
       "      <td>163</td>\n",
       "      <td>1</td>\n",
       "      <td>0.6</td>\n",
       "      <td>2</td>\n",
       "      <td>0</td>\n",
       "      <td>2</td>\n",
       "      <td>1</td>\n",
       "    </tr>\n",
       "  </tbody>\n",
       "</table>\n",
       "</div>"
      ],
      "text/plain": [
       "   age  sex  cp  trestbps  chol  fbs  restecg  thalach  exang  oldpeak  slope  \\\n",
       "0   63    1   3       145   233    1        0      150      0      2.3      0   \n",
       "1   37    1   2       130   250    0        1      187      0      3.5      0   \n",
       "2   41    0   1       130   204    0        0      172      0      1.4      2   \n",
       "3   56    1   1       120   236    0        1      178      0      0.8      2   \n",
       "4   57    0   0       120   354    0        1      163      1      0.6      2   \n",
       "\n",
       "   ca  thal  target  \n",
       "0   0     1       1  \n",
       "1   0     2       1  \n",
       "2   0     2       1  \n",
       "3   0     2       1  \n",
       "4   0     2       1  "
      ]
     },
     "execution_count": 3,
     "metadata": {},
     "output_type": "execute_result"
    }
   ],
   "source": [
    "df.head()"
   ]
  },
  {
   "cell_type": "code",
   "execution_count": 4,
   "id": "cf394ce2",
   "metadata": {},
   "outputs": [
    {
     "data": {
      "image/png": "[encoded data removed]",
      "text/plain": [
       "<Figure size 288x288 with 1 Axes>"
      ]
     },
     "metadata": {
      "needs_background": "light"
     },
     "output_type": "display_data"
    }
   ],
   "source": [
    "plt.matshow(df.corr())\n",
    "plt.show()"
   ]
  },
  {
   "cell_type": "code",
   "execution_count": 5,
   "id": "fe08edf5",
   "metadata": {},
   "outputs": [],
   "source": [
    "x_df = df.iloc[:,:-1]"
   ]
  },
  {
   "cell_type": "code",
   "execution_count": 6,
   "id": "e588f9b2",
   "metadata": {},
   "outputs": [],
   "source": [
    "y_df = df.iloc[:,-1]"
   ]
  },
  {
   "cell_type": "code",
   "execution_count": 7,
   "id": "3400765d",
   "metadata": {},
   "outputs": [],
   "source": [
    "X_train,X_test,y_train,y_test = train_test_split(x_df,y_df,test_size=0.1,random_state=42)"
   ]
  },
  {
   "cell_type": "code",
   "execution_count": 8,
   "id": "1b87ba3b",
   "metadata": {},
   "outputs": [],
   "source": [
    "sc = StandardScaler()\n",
    "X_train = sc.fit_transform(X_train)\n",
    "X_test = sc.transform(X_test)"
   ]
  },
  {
   "cell_type": "code",
   "execution_count": 9,
   "id": "1ee68000",
   "metadata": {},
   "outputs": [
    {
     "data": {
      "text/plain": [
       "284    0\n",
       "198    0\n",
       "42     1\n",
       "17     1\n",
       "168    0\n",
       "      ..\n",
       "188    0\n",
       "71     1\n",
       "106    1\n",
       "270    0\n",
       "102    1\n",
       "Name: target, Length: 272, dtype: int64"
      ]
     },
     "execution_count": 9,
     "metadata": {},
     "output_type": "execute_result"
    }
   ],
   "source": [
    "y_train"
   ]
  },
  {
   "cell_type": "code",
   "execution_count": 10,
   "id": "4ad3171a",
   "metadata": {},
   "outputs": [],
   "source": [
    "model = Sequential()\n",
    "model.add(Dense(130,activation='relu',kernel_regularizer=l2(0.001),input_shape=[13]))\n",
    "model.add(Dense(65,activation='selu',kernel_regularizer=l2(0.001)))\n",
    "model.add(Dropout(0.2))\n",
    "model.add(Dense(13,activation='selu',kernel_regularizer=l2(0.001)))\n",
    "model.add(Dropout(0.2))\n",
    "model.add(Dense(1,activation='sigmoid'))"
   ]
  },
  {
   "cell_type": "code",
   "execution_count": 11,
   "id": "2f08ddf4",
   "metadata": {},
   "outputs": [
    {
     "name": "stdout",
     "output_type": "stream",
     "text": [
      "Model: \"sequential\"\n",
      "_________________________________________________________________\n",
      "Layer (type)                 Output Shape              Param #   \n",
      "=================================================================\n",
      "dense (Dense)                (None, 130)               1820      \n",
      "_________________________________________________________________\n",
      "dense_1 (Dense)              (None, 65)                8515      \n",
      "_________________________________________________________________\n",
      "dropout (Dropout)            (None, 65)                0         \n",
      "_________________________________________________________________\n",
      "dense_2 (Dense)              (None, 13)                858       \n",
      "_________________________________________________________________\n",
      "dropout_1 (Dropout)          (None, 13)                0         \n",
      "_________________________________________________________________\n",
      "dense_3 (Dense)              (None, 1)                 14        \n",
      "=================================================================\n",
      "Total params: 11,207\n",
      "Trainable params: 11,207\n",
      "Non-trainable params: 0\n",
      "_________________________________________________________________\n"
     ]
    }
   ],
   "source": [
    "model.summary()"
   ]
  },
  {
   "cell_type": "code",
   "execution_count": 12,
   "id": "5273303e",
   "metadata": {},
   "outputs": [],
   "source": [
    "model.compile(optimizer='adam',loss='binary_crossentropy',metrics=['accuracy'])"
   ]
  },
  {
   "cell_type": "code",
   "execution_count": 13,
   "id": "de7e947b",
   "metadata": {},
   "outputs": [
    {
     "name": "stdout",
     "output_type": "stream",
     "text": [
      "Epoch 1/100\n",
      "9/9 [==============================] - 0s 33ms/step - loss: 0.7623 - accuracy: 0.6284 - val_loss: 0.6218 - val_accuracy: 0.8387\n",
      "Epoch 2/100\n",
      "9/9 [==============================] - 0s 3ms/step - loss: 0.5675 - accuracy: 0.8039 - val_loss: 0.6294 - val_accuracy: 0.8065\n",
      "Epoch 3/100\n",
      "9/9 [==============================] - 0s 3ms/step - loss: 0.4931 - accuracy: 0.8561 - val_loss: 0.6509 - val_accuracy: 0.8387\n",
      "Epoch 4/100\n",
      "9/9 [==============================] - 0s 3ms/step - loss: 0.4992 - accuracy: 0.8573 - val_loss: 0.6536 - val_accuracy: 0.8387\n",
      "Epoch 5/100\n",
      "9/9 [==============================] - 0s 3ms/step - loss: 0.4833 - accuracy: 0.8491 - val_loss: 0.6627 - val_accuracy: 0.8065\n",
      "Epoch 6/100\n",
      "9/9 [==============================] - 0s 3ms/step - loss: 0.4800 - accuracy: 0.8601 - val_loss: 0.6695 - val_accuracy: 0.8065\n",
      "Epoch 7/100\n",
      "9/9 [==============================] - 0s 3ms/step - loss: 0.4711 - accuracy: 0.8702 - val_loss: 0.6681 - val_accuracy: 0.8065\n",
      "Epoch 8/100\n",
      "9/9 [==============================] - 0s 3ms/step - loss: 0.4024 - accuracy: 0.8808 - val_loss: 0.6729 - val_accuracy: 0.8065\n",
      "Epoch 9/100\n",
      "9/9 [==============================] - 0s 3ms/step - loss: 0.4159 - accuracy: 0.8997 - val_loss: 0.6829 - val_accuracy: 0.8065\n",
      "Epoch 10/100\n",
      "9/9 [==============================] - 0s 3ms/step - loss: 0.4094 - accuracy: 0.8927 - val_loss: 0.6763 - val_accuracy: 0.8065\n",
      "Epoch 11/100\n",
      "9/9 [==============================] - 0s 3ms/step - loss: 0.4412 - accuracy: 0.8855 - val_loss: 0.6791 - val_accuracy: 0.8065\n",
      "Epoch 12/100\n",
      "9/9 [==============================] - 0s 3ms/step - loss: 0.3655 - accuracy: 0.9095 - val_loss: 0.6986 - val_accuracy: 0.8065\n",
      "Epoch 13/100\n",
      "9/9 [==============================] - 0s 3ms/step - loss: 0.4029 - accuracy: 0.8836 - val_loss: 0.7021 - val_accuracy: 0.8065\n",
      "Epoch 14/100\n",
      "9/9 [==============================] - 0s 3ms/step - loss: 0.3630 - accuracy: 0.9200 - val_loss: 0.7258 - val_accuracy: 0.8065\n",
      "Epoch 15/100\n",
      "9/9 [==============================] - 0s 3ms/step - loss: 0.4108 - accuracy: 0.8943 - val_loss: 0.7207 - val_accuracy: 0.8065\n",
      "Epoch 16/100\n",
      "9/9 [==============================] - 0s 3ms/step - loss: 0.3852 - accuracy: 0.9203 - val_loss: 0.7368 - val_accuracy: 0.8065\n",
      "Epoch 17/100\n",
      "9/9 [==============================] - 0s 3ms/step - loss: 0.3751 - accuracy: 0.9156 - val_loss: 0.7661 - val_accuracy: 0.8065\n",
      "Epoch 18/100\n",
      "9/9 [==============================] - 0s 3ms/step - loss: 0.3763 - accuracy: 0.9341 - val_loss: 0.7881 - val_accuracy: 0.7742\n",
      "Epoch 19/100\n",
      "9/9 [==============================] - 0s 3ms/step - loss: 0.3703 - accuracy: 0.9119 - val_loss: 0.8024 - val_accuracy: 0.7742\n",
      "Epoch 20/100\n",
      "9/9 [==============================] - 0s 3ms/step - loss: 0.3391 - accuracy: 0.9253 - val_loss: 0.8220 - val_accuracy: 0.7742\n",
      "Epoch 21/100\n",
      "9/9 [==============================] - 0s 3ms/step - loss: 0.3360 - accuracy: 0.9335 - val_loss: 0.8334 - val_accuracy: 0.8065\n",
      "Epoch 22/100\n",
      "9/9 [==============================] - 0s 3ms/step - loss: 0.2908 - accuracy: 0.9379 - val_loss: 0.8748 - val_accuracy: 0.7742\n",
      "Epoch 23/100\n",
      "9/9 [==============================] - 0s 3ms/step - loss: 0.3106 - accuracy: 0.9354 - val_loss: 0.8681 - val_accuracy: 0.7742\n",
      "Epoch 24/100\n",
      "9/9 [==============================] - 0s 3ms/step - loss: 0.3039 - accuracy: 0.9223 - val_loss: 0.8750 - val_accuracy: 0.8387\n",
      "Epoch 25/100\n",
      "9/9 [==============================] - 0s 3ms/step - loss: 0.3110 - accuracy: 0.9143 - val_loss: 0.9103 - val_accuracy: 0.8065\n",
      "Epoch 26/100\n",
      "9/9 [==============================] - 0s 3ms/step - loss: 0.2655 - accuracy: 0.9539 - val_loss: 0.9516 - val_accuracy: 0.7742\n",
      "Epoch 27/100\n",
      "9/9 [==============================] - 0s 3ms/step - loss: 0.2938 - accuracy: 0.9405 - val_loss: 0.9469 - val_accuracy: 0.8065\n",
      "Epoch 28/100\n",
      "9/9 [==============================] - 0s 2ms/step - loss: 0.2921 - accuracy: 0.9487 - val_loss: 0.9570 - val_accuracy: 0.7742\n",
      "Epoch 29/100\n",
      "9/9 [==============================] - 0s 3ms/step - loss: 0.2365 - accuracy: 0.9811 - val_loss: 0.9965 - val_accuracy: 0.7742\n",
      "Epoch 30/100\n",
      "9/9 [==============================] - 0s 3ms/step - loss: 0.2269 - accuracy: 0.9846 - val_loss: 1.0481 - val_accuracy: 0.7742\n",
      "Epoch 31/100\n",
      "9/9 [==============================] - 0s 3ms/step - loss: 0.2394 - accuracy: 0.9722 - val_loss: 1.0842 - val_accuracy: 0.8065\n",
      "Epoch 32/100\n",
      "9/9 [==============================] - 0s 3ms/step - loss: 0.2393 - accuracy: 0.9668 - val_loss: 1.0812 - val_accuracy: 0.8065\n",
      "Epoch 33/100\n",
      "9/9 [==============================] - 0s 2ms/step - loss: 0.2257 - accuracy: 0.9746 - val_loss: 1.0779 - val_accuracy: 0.8387\n",
      "Epoch 34/100\n",
      "9/9 [==============================] - 0s 3ms/step - loss: 0.2246 - accuracy: 0.9780 - val_loss: 1.1307 - val_accuracy: 0.8065\n",
      "Epoch 35/100\n",
      "9/9 [==============================] - 0s 3ms/step - loss: 0.2326 - accuracy: 0.9743 - val_loss: 1.2004 - val_accuracy: 0.8065\n",
      "Epoch 36/100\n",
      "9/9 [==============================] - 0s 3ms/step - loss: 0.2095 - accuracy: 0.9842 - val_loss: 1.2227 - val_accuracy: 0.8065\n",
      "Epoch 37/100\n",
      "9/9 [==============================] - 0s 3ms/step - loss: 0.2310 - accuracy: 0.9773 - val_loss: 1.1900 - val_accuracy: 0.8065\n",
      "Epoch 38/100\n",
      "9/9 [==============================] - 0s 2ms/step - loss: 0.2031 - accuracy: 0.9925 - val_loss: 1.1988 - val_accuracy: 0.8065\n",
      "Epoch 39/100\n",
      "9/9 [==============================] - 0s 3ms/step - loss: 0.2306 - accuracy: 0.9748 - val_loss: 1.2666 - val_accuracy: 0.8065\n",
      "Epoch 40/100\n",
      "9/9 [==============================] - 0s 3ms/step - loss: 0.1999 - accuracy: 0.9912 - val_loss: 1.2889 - val_accuracy: 0.8387\n",
      "Epoch 41/100\n",
      "9/9 [==============================] - 0s 2ms/step - loss: 0.2084 - accuracy: 0.9797 - val_loss: 1.3037 - val_accuracy: 0.8387\n",
      "Epoch 42/100\n",
      "9/9 [==============================] - 0s 2ms/step - loss: 0.2068 - accuracy: 0.9885 - val_loss: 1.3491 - val_accuracy: 0.8065\n",
      "Epoch 43/100\n",
      "9/9 [==============================] - 0s 3ms/step - loss: 0.2121 - accuracy: 0.9831 - val_loss: 1.3756 - val_accuracy: 0.7742\n",
      "Epoch 44/100\n",
      "9/9 [==============================] - 0s 2ms/step - loss: 0.1928 - accuracy: 0.9902 - val_loss: 1.4268 - val_accuracy: 0.8065\n",
      "Epoch 45/100\n",
      "9/9 [==============================] - 0s 3ms/step - loss: 0.1943 - accuracy: 0.9938 - val_loss: 1.4032 - val_accuracy: 0.8065\n",
      "Epoch 46/100\n",
      "9/9 [==============================] - 0s 3ms/step - loss: 0.1889 - accuracy: 0.9946 - val_loss: 1.4351 - val_accuracy: 0.8065\n",
      "Epoch 47/100\n",
      "9/9 [==============================] - 0s 2ms/step - loss: 0.2026 - accuracy: 0.9909 - val_loss: 1.4739 - val_accuracy: 0.8065\n",
      "Epoch 48/100\n",
      "9/9 [==============================] - 0s 3ms/step - loss: 0.2010 - accuracy: 0.9886 - val_loss: 1.5179 - val_accuracy: 0.8065\n",
      "Epoch 49/100\n",
      "9/9 [==============================] - 0s 3ms/step - loss: 0.1780 - accuracy: 0.9989 - val_loss: 1.5904 - val_accuracy: 0.8065\n",
      "Epoch 50/100\n",
      "9/9 [==============================] - 0s 2ms/step - loss: 0.2258 - accuracy: 0.9783 - val_loss: 1.6110 - val_accuracy: 0.8065\n",
      "Epoch 51/100\n",
      "9/9 [==============================] - 0s 3ms/step - loss: 0.1824 - accuracy: 0.9949 - val_loss: 1.5949 - val_accuracy: 0.8065\n",
      "Epoch 52/100\n",
      "9/9 [==============================] - 0s 3ms/step - loss: 0.1788 - accuracy: 0.9962 - val_loss: 1.6287 - val_accuracy: 0.8065\n",
      "Epoch 53/100\n",
      "9/9 [==============================] - 0s 2ms/step - loss: 0.1933 - accuracy: 0.9847 - val_loss: 1.6564 - val_accuracy: 0.8065\n",
      "Epoch 54/100\n",
      "9/9 [==============================] - 0s 3ms/step - loss: 0.1805 - accuracy: 0.9952 - val_loss: 1.6592 - val_accuracy: 0.8065\n",
      "Epoch 55/100\n",
      "9/9 [==============================] - 0s 2ms/step - loss: 0.1726 - accuracy: 0.9962 - val_loss: 1.6547 - val_accuracy: 0.8065\n",
      "Epoch 56/100\n",
      "9/9 [==============================] - 0s 2ms/step - loss: 0.1798 - accuracy: 0.9989 - val_loss: 1.6780 - val_accuracy: 0.8065\n",
      "Epoch 57/100\n",
      "9/9 [==============================] - 0s 2ms/step - loss: 0.1725 - accuracy: 0.9947 - val_loss: 1.7518 - val_accuracy: 0.8065\n",
      "Epoch 58/100\n",
      "9/9 [==============================] - 0s 2ms/step - loss: 0.1685 - accuracy: 0.9979 - val_loss: 1.7734 - val_accuracy: 0.8065\n",
      "Epoch 59/100\n"
     ]
    },
    {
     "name": "stdout",
     "output_type": "stream",
     "text": [
      "9/9 [==============================] - 0s 3ms/step - loss: 0.1694 - accuracy: 0.9965 - val_loss: 1.7610 - val_accuracy: 0.8065\n",
      "Epoch 60/100\n",
      "9/9 [==============================] - 0s 2ms/step - loss: 0.1742 - accuracy: 0.9962 - val_loss: 1.7685 - val_accuracy: 0.8065\n",
      "Epoch 61/100\n",
      "9/9 [==============================] - 0s 2ms/step - loss: 0.1725 - accuracy: 0.9955 - val_loss: 1.7878 - val_accuracy: 0.8065\n",
      "Epoch 62/100\n",
      "9/9 [==============================] - 0s 2ms/step - loss: 0.1832 - accuracy: 0.9847 - val_loss: 1.7948 - val_accuracy: 0.8065\n",
      "Epoch 63/100\n",
      "9/9 [==============================] - 0s 3ms/step - loss: 0.1742 - accuracy: 0.9943 - val_loss: 1.7947 - val_accuracy: 0.8065\n",
      "Epoch 64/100\n",
      "9/9 [==============================] - 0s 2ms/step - loss: 0.1684 - accuracy: 0.9984 - val_loss: 1.8335 - val_accuracy: 0.8065\n",
      "Epoch 65/100\n",
      "9/9 [==============================] - 0s 2ms/step - loss: 0.1671 - accuracy: 0.9989 - val_loss: 1.8274 - val_accuracy: 0.7742\n",
      "Epoch 66/100\n",
      "9/9 [==============================] - 0s 2ms/step - loss: 0.1697 - accuracy: 0.9957 - val_loss: 1.8744 - val_accuracy: 0.7742\n",
      "Epoch 67/100\n",
      "9/9 [==============================] - 0s 2ms/step - loss: 0.1702 - accuracy: 0.9989 - val_loss: 1.9480 - val_accuracy: 0.8065\n",
      "Epoch 68/100\n",
      "9/9 [==============================] - 0s 2ms/step - loss: 0.1724 - accuracy: 0.9938 - val_loss: 1.9219 - val_accuracy: 0.8065\n",
      "Epoch 69/100\n",
      "9/9 [==============================] - 0s 2ms/step - loss: 0.1844 - accuracy: 0.9908 - val_loss: 1.8980 - val_accuracy: 0.7742\n",
      "Epoch 70/100\n",
      "9/9 [==============================] - 0s 2ms/step - loss: 0.1669 - accuracy: 1.0000 - val_loss: 1.9254 - val_accuracy: 0.8065\n",
      "Epoch 71/100\n",
      "9/9 [==============================] - 0s 2ms/step - loss: 0.1654 - accuracy: 0.9993 - val_loss: 1.9685 - val_accuracy: 0.8065\n",
      "Epoch 72/100\n",
      "9/9 [==============================] - 0s 2ms/step - loss: 0.1685 - accuracy: 0.9984 - val_loss: 1.9823 - val_accuracy: 0.8065\n",
      "Epoch 73/100\n",
      "9/9 [==============================] - 0s 2ms/step - loss: 0.1671 - accuracy: 1.0000 - val_loss: 1.9944 - val_accuracy: 0.8065\n",
      "Epoch 74/100\n",
      "9/9 [==============================] - 0s 2ms/step - loss: 0.1657 - accuracy: 1.0000 - val_loss: 2.0189 - val_accuracy: 0.8065\n",
      "Epoch 75/100\n",
      "9/9 [==============================] - 0s 2ms/step - loss: 0.1659 - accuracy: 0.9993 - val_loss: 2.0407 - val_accuracy: 0.8065\n",
      "Epoch 76/100\n",
      "9/9 [==============================] - 0s 2ms/step - loss: 0.1685 - accuracy: 0.9979 - val_loss: 2.0554 - val_accuracy: 0.8065\n",
      "Epoch 77/100\n",
      "9/9 [==============================] - 0s 2ms/step - loss: 0.1669 - accuracy: 0.9984 - val_loss: 2.0882 - val_accuracy: 0.8065\n",
      "Epoch 78/100\n",
      "9/9 [==============================] - 0s 2ms/step - loss: 0.1739 - accuracy: 0.9989 - val_loss: 2.0810 - val_accuracy: 0.8065\n",
      "Epoch 79/100\n",
      "9/9 [==============================] - 0s 2ms/step - loss: 0.1652 - accuracy: 1.0000 - val_loss: 2.1434 - val_accuracy: 0.8065\n",
      "Epoch 80/100\n",
      "9/9 [==============================] - 0s 2ms/step - loss: 0.1674 - accuracy: 1.0000 - val_loss: 2.1632 - val_accuracy: 0.8065\n",
      "Epoch 81/100\n",
      "9/9 [==============================] - 0s 3ms/step - loss: 0.1740 - accuracy: 0.9916 - val_loss: 2.1526 - val_accuracy: 0.8065\n",
      "Epoch 82/100\n",
      "9/9 [==============================] - 0s 2ms/step - loss: 0.1713 - accuracy: 0.9965 - val_loss: 2.1725 - val_accuracy: 0.8065\n",
      "Epoch 83/100\n",
      "9/9 [==============================] - 0s 2ms/step - loss: 0.1705 - accuracy: 1.0000 - val_loss: 2.1731 - val_accuracy: 0.8065\n",
      "Epoch 84/100\n",
      "9/9 [==============================] - 0s 2ms/step - loss: 0.1731 - accuracy: 0.9955 - val_loss: 2.1740 - val_accuracy: 0.8065\n",
      "Epoch 85/100\n",
      "9/9 [==============================] - 0s 2ms/step - loss: 0.1700 - accuracy: 0.9979 - val_loss: 2.2109 - val_accuracy: 0.8065\n",
      "Epoch 86/100\n",
      "9/9 [==============================] - 0s 2ms/step - loss: 0.1736 - accuracy: 1.0000 - val_loss: 2.2827 - val_accuracy: 0.8065\n",
      "Epoch 87/100\n",
      "9/9 [==============================] - 0s 2ms/step - loss: 0.1719 - accuracy: 1.0000 - val_loss: 2.1908 - val_accuracy: 0.8065\n",
      "Epoch 88/100\n",
      "9/9 [==============================] - 0s 2ms/step - loss: 0.1651 - accuracy: 1.0000 - val_loss: 2.1460 - val_accuracy: 0.8065\n",
      "Epoch 89/100\n",
      "9/9 [==============================] - 0s 3ms/step - loss: 0.1716 - accuracy: 1.0000 - val_loss: 2.3448 - val_accuracy: 0.8065\n",
      "Epoch 90/100\n",
      "9/9 [==============================] - 0s 2ms/step - loss: 0.1676 - accuracy: 1.0000 - val_loss: 2.4604 - val_accuracy: 0.8065\n",
      "Epoch 91/100\n",
      "9/9 [==============================] - 0s 2ms/step - loss: 0.1675 - accuracy: 1.0000 - val_loss: 2.4692 - val_accuracy: 0.8065\n",
      "Epoch 92/100\n",
      "9/9 [==============================] - 0s 2ms/step - loss: 0.1713 - accuracy: 0.9979 - val_loss: 2.3692 - val_accuracy: 0.8065\n",
      "Epoch 93/100\n",
      "9/9 [==============================] - 0s 2ms/step - loss: 0.1664 - accuracy: 1.0000 - val_loss: 2.3089 - val_accuracy: 0.8065\n",
      "Epoch 94/100\n",
      "9/9 [==============================] - 0s 2ms/step - loss: 0.1775 - accuracy: 0.9939 - val_loss: 2.2842 - val_accuracy: 0.8387\n",
      "Epoch 95/100\n",
      "9/9 [==============================] - 0s 2ms/step - loss: 0.1668 - accuracy: 1.0000 - val_loss: 2.2996 - val_accuracy: 0.8387\n",
      "Epoch 96/100\n",
      "9/9 [==============================] - 0s 2ms/step - loss: 0.1722 - accuracy: 0.9939 - val_loss: 2.3301 - val_accuracy: 0.8065\n",
      "Epoch 97/100\n",
      "9/9 [==============================] - 0s 2ms/step - loss: 0.1668 - accuracy: 1.0000 - val_loss: 2.3672 - val_accuracy: 0.8065\n",
      "Epoch 98/100\n",
      "9/9 [==============================] - 0s 2ms/step - loss: 0.1705 - accuracy: 1.0000 - val_loss: 2.3966 - val_accuracy: 0.8065\n",
      "Epoch 99/100\n",
      "9/9 [==============================] - 0s 2ms/step - loss: 0.1678 - accuracy: 0.9973 - val_loss: 2.4184 - val_accuracy: 0.8065\n",
      "Epoch 100/100\n",
      "9/9 [==============================] - 0s 2ms/step - loss: 0.1741 - accuracy: 1.0000 - val_loss: 2.4071 - val_accuracy: 0.7742\n"
     ]
    }
   ],
   "source": [
    "history = model.fit(X_train,y_train,validation_data=(X_test,y_test),epochs=100)"
   ]
  },
  {
   "cell_type": "code",
   "execution_count": 14,
   "id": "c6ccfa52",
   "metadata": {},
   "outputs": [
    {
     "data": {
      "text/plain": [
       "Text(0.5, 1.0, 'Loss')"
      ]
     },
     "execution_count": 14,
     "metadata": {},
     "output_type": "execute_result"
    },
    {
     "data": {
      "image/png": "[encoded data removed]",
      "text/plain": [
       "<Figure size 1152x576 with 2 Axes>"
      ]
     },
     "metadata": {
      "needs_background": "light"
     },
     "output_type": "display_data"
    }
   ],
   "source": [
    "acc = history.history['accuracy']\n",
    "loss = history.history['loss']\n",
    "val_acc = history.history['val_accuracy']\n",
    "val_loss = history.history['val_loss']\n",
    "\n",
    "epoch = range(len(acc))\n",
    "\n",
    "plt.figure(figsize=(16,8))\n",
    "\n",
    "plt.subplot(1,2,1)\n",
    "plt.plot(epoch,acc,label='acc')\n",
    "plt.plot(epoch,val_acc,label='val_acc')\n",
    "plt.title('Accuracy')\n",
    "\n",
    "plt.subplot(1,2,2)\n",
    "plt.plot(epoch,loss,label='loss')\n",
    "plt.plot(epoch,val_loss,label='val_loss')\n",
    "plt.title('Loss')\n"
   ]
  },
  {
   "cell_type": "code",
   "execution_count": 15,
   "id": "dcf7d608",
   "metadata": {},
   "outputs": [],
   "source": [
    "y_pred = model.predict(X_test)\n"
   ]
  },
  {
   "cell_type": "code",
   "execution_count": 16,
   "id": "09bcf0b3",
   "metadata": {},
   "outputs": [
    {
     "data": {
      "text/plain": [
       "array([[1.4517953e-05],\n",
       "       [1.7649240e-03],\n",
       "       [1.0000000e+00],\n",
       "       [5.4208414e-07],\n",
       "       [9.9995720e-01],\n",
       "       [9.9999094e-01],\n",
       "       [9.9671930e-01],\n",
       "       [1.7174532e-18],\n",
       "       [1.5698303e-08],\n",
       "       [4.1138574e-01],\n",
       "       [9.9987578e-01],\n",
       "       [2.1182403e-11],\n",
       "       [9.9944562e-01],\n",
       "       [1.0140778e-06],\n",
       "       [9.9999821e-01],\n",
       "       [9.9999893e-01],\n",
       "       [1.0000000e+00],\n",
       "       [6.0177740e-08],\n",
       "       [2.9888276e-11],\n",
       "       [1.1814765e-08],\n",
       "       [4.1671819e-03],\n",
       "       [1.3025767e-09],\n",
       "       [1.6551872e-01],\n",
       "       [9.9909246e-01],\n",
       "       [9.9999809e-01],\n",
       "       [9.9999106e-01],\n",
       "       [9.9956471e-01],\n",
       "       [2.1432878e-01],\n",
       "       [8.3445562e-10],\n",
       "       [9.9695134e-01],\n",
       "       [2.5229722e-08]], dtype=float32)"
      ]
     },
     "execution_count": 16,
     "metadata": {},
     "output_type": "execute_result"
    }
   ],
   "source": [
    "y_pred"
   ]
  },
  {
   "cell_type": "code",
   "execution_count": 17,
   "id": "a2f9c943",
   "metadata": {},
   "outputs": [],
   "source": [
    "y_pred = (y_pred > 0.5)"
   ]
  },
  {
   "cell_type": "code",
   "execution_count": 18,
   "id": "ded7194c",
   "metadata": {},
   "outputs": [
    {
     "data": {
      "text/plain": [
       "array([[False],\n",
       "       [False],\n",
       "       [ True],\n",
       "       [False],\n",
       "       [ True],\n",
       "       [ True],\n",
       "       [ True],\n",
       "       [False],\n",
       "       [False],\n",
       "       [False],\n",
       "       [ True],\n",
       "       [False],\n",
       "       [ True],\n",
       "       [False],\n",
       "       [ True],\n",
       "       [ True],\n",
       "       [ True],\n",
       "       [False],\n",
       "       [False],\n",
       "       [False],\n",
       "       [False],\n",
       "       [False],\n",
       "       [False],\n",
       "       [ True],\n",
       "       [ True],\n",
       "       [ True],\n",
       "       [ True],\n",
       "       [False],\n",
       "       [False],\n",
       "       [ True],\n",
       "       [False]])"
      ]
     },
     "execution_count": 18,
     "metadata": {},
     "output_type": "execute_result"
    }
   ],
   "source": [
    "y_pred"
   ]
  },
  {
   "cell_type": "code",
   "execution_count": 20,
   "id": "1a42f62d",
   "metadata": {},
   "outputs": [
    {
     "name": "stdout",
     "output_type": "stream",
     "text": [
      "[[0 0]\n",
      " [0 0]\n",
      " [1 1]\n",
      " [0 0]\n",
      " [1 1]\n",
      " [1 1]\n",
      " [1 1]\n",
      " [0 0]\n",
      " [0 0]\n",
      " [0 1]\n",
      " [1 1]\n",
      " [0 1]\n",
      " [1 1]\n",
      " [0 0]\n",
      " [1 1]\n",
      " [1 1]\n",
      " [1 1]\n",
      " [0 0]\n",
      " [0 0]\n",
      " [0 0]\n",
      " [0 1]\n",
      " [0 0]\n",
      " [0 0]\n",
      " [1 1]\n",
      " [1 1]\n",
      " [1 0]\n",
      " [1 0]\n",
      " [0 1]\n",
      " [0 0]\n",
      " [1 1]\n",
      " [0 1]]\n"
     ]
    }
   ],
   "source": [
    "print(np.concatenate((y_pred.reshape(len(y_pred),1), np.array(y_test).reshape(len(y_test),1)),1))"
   ]
  },
  {
   "cell_type": "code",
   "execution_count": null,
   "id": "37868410",
   "metadata": {},
   "outputs": [],
   "source": [
    "type(y_test)"
   ]
  },
  {
   "cell_type": "code",
   "execution_count": null,
   "id": "c5a94e52",
   "metadata": {},
   "outputs": [],
   "source": []
  }
 ],
 "metadata": {
  "kernelspec": {
   "display_name": "Python 3",
   "language": "python",
   "name": "python3"
  },
  "language_info": {
   "codemirror_mode": {
    "name": "ipython",
    "version": 3
   },
   "file_extension": ".py",
   "mimetype": "text/x-python",
   "name": "python",
   "nbconvert_exporter": "python",
   "pygments_lexer": "ipython3",
   "version": "3.8.8"
  }
 },
 "nbformat": 4,
 "nbformat_minor": 5
}
